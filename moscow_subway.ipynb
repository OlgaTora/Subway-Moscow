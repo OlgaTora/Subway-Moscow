{
  "cells": [
    {
      "cell_type": "markdown",
      "source": [
        "На основании данных о пассажирах, которые воспользовались метро\n",
        "дважды за сутки, при наличии информации о первом заходе в метро,\n",
        "необходимо предсказать, на какой станции и через какой промежуток\n",
        "времени, этот пассажир воспользуется метро повторно\n",
        "На что стоит обратить внимание\n",
        "Чтобы качественнее понимать задачу, стоит смоделировать\n",
        "ежедневный маршрут москвича. Обычно это человек, который по будням\n",
        "ездит из конечных станций в центр на работу/учебу, а после — возвращается\n",
        "домой. В среднем рабочий день занимает 8 часов, а учебный 5-7."
      ],
      "metadata": {
        "id": "_9sxGwpkt81T"
      }
    },
    {
      "cell_type": "markdown",
      "metadata": {
        "id": "jFxeVTRd54gI"
      },
      "source": [
        "# Import and description of dataset\n",
        "\n"
      ]
    },
    {
      "cell_type": "code",
      "source": [
        "from google.colab import drive\n",
        "drive.mount('/content/drive')"
      ],
      "metadata": {
        "colab": {
          "base_uri": "https://localhost:8080/"
        },
        "id": "hcxwuLBK0vFW",
        "outputId": "f26a9ae5-868e-4df5-c211-10214a942fa7"
      },
      "execution_count": null,
      "outputs": [
        {
          "output_type": "stream",
          "name": "stdout",
          "text": [
            "Drive already mounted at /content/drive; to attempt to forcibly remount, call drive.mount(\"/content/drive\", force_remount=True).\n"
          ]
        }
      ]
    },
    {
      "cell_type": "code",
      "execution_count": null,
      "metadata": {
        "id": "dR1xtkZFrvIs"
      },
      "outputs": [],
      "source": [
        "from plotly import express\n",
        "import pandas as pd\n",
        "import numpy as np\n",
        "import seaborn as sns\n",
        "import plotly.express as px\n",
        "import matplotlib.pyplot as plt\n",
        "%matplotlib inline\n",
        "\n",
        "from sklearn.metrics import recall_score, r2_score\n",
        "from sklearn.model_selection import train_test_split\n",
        "import math\n",
        "\n",
        "from sklearn import preprocessing\n",
        "\n",
        "pd.set_option('display.max_columns',100) \n",
        "pd.set_option('display.max_rows',100)"
      ]
    },
    {
      "cell_type": "code",
      "source": [
        "df = pd.read_csv('/content/drive/MyDrive/train_metro.csv')"
      ],
      "metadata": {
        "id": "HIA0GSzH4TET"
      },
      "execution_count": null,
      "outputs": []
    },
    {
      "cell_type": "markdown",
      "metadata": {
        "id": "oJgPNSxb6PGc"
      },
      "source": [
        "# EDA & Feature engeeniring"
      ]
    },
    {
      "cell_type": "markdown",
      "source": [
        "\n",
        "Описание столбцов для train и test:\n",
        "1. id - уникальный идентификатор столбца;\n",
        "2. ticket_id - уникальный идентификатор билета, считается, что у одного\n",
        "билета один владелец\n",
        "3.  ticket_type_nm - тип билета\n",
        "4.  entrance_id - уникальный id входа в станцию\n",
        "5.  entrance_nm - название\n",
        "6.  station_id - уникальное id станции захода\n",
        "7.  station_nm - наименование станции захода\n",
        "8.  line_id - уникальный id ветки на, которой находится станция\n",
        "9.  line_nm - наименование ветки, на которой находится станция\n",
        "10. pass_dttm - дата валидации\n",
        "11. time_to_under (столбец для предсказания) - сколько времени прошло\n",
        "между первой и второй валидацией\n",
        "12. label (столбец для предсказания) - id второй станции, на которой\n",
        "произошла валидация"
      ],
      "metadata": {
        "id": "MFysy34U8FdT"
      }
    },
    {
      "cell_type": "code",
      "source": [
        "df.head(2)"
      ],
      "metadata": {
        "colab": {
          "base_uri": "https://localhost:8080/",
          "height": 112
        },
        "id": "XHD77iySdwly",
        "outputId": "b470d202-10f1-4990-8986-d277bbb9df53"
      },
      "execution_count": null,
      "outputs": [
        {
          "output_type": "execute_result",
          "data": {
            "text/plain": [
              "   id                         ticket_id        ticket_type_nm  entrance_id  \\\n",
              "0   1  40BD89EC85646EFB69E283F39C298E60       Пропуск FacePay         2402   \n",
              "1   2  126727A96489CC976A8C08E5CEB00542  СК учащегося 30 дней          110   \n",
              "\n",
              "            entrance_nm  station_id  station_nm  line_id            line_nm  \\\n",
              "0         Лефортово БКЛ       11007   Лефортово       11  Большая кольцевая   \n",
              "1  Войковская ( Южный )        2006  Войковская        2     Замоскворецкая   \n",
              "\n",
              "             pass_dttm  time_to_under  label  \n",
              "0  2022-09-12 05:00:13     216.316667   8001  \n",
              "1  2022-09-12 05:00:54     648.183333   9011  "
            ],
            "text/html": [
              "\n",
              "  <div id=\"df-ba11a4ce-e79c-4265-892b-c9c1074f3879\">\n",
              "    <div class=\"colab-df-container\">\n",
              "      <div>\n",
              "<style scoped>\n",
              "    .dataframe tbody tr th:only-of-type {\n",
              "        vertical-align: middle;\n",
              "    }\n",
              "\n",
              "    .dataframe tbody tr th {\n",
              "        vertical-align: top;\n",
              "    }\n",
              "\n",
              "    .dataframe thead th {\n",
              "        text-align: right;\n",
              "    }\n",
              "</style>\n",
              "<table border=\"1\" class=\"dataframe\">\n",
              "  <thead>\n",
              "    <tr style=\"text-align: right;\">\n",
              "      <th></th>\n",
              "      <th>id</th>\n",
              "      <th>ticket_id</th>\n",
              "      <th>ticket_type_nm</th>\n",
              "      <th>entrance_id</th>\n",
              "      <th>entrance_nm</th>\n",
              "      <th>station_id</th>\n",
              "      <th>station_nm</th>\n",
              "      <th>line_id</th>\n",
              "      <th>line_nm</th>\n",
              "      <th>pass_dttm</th>\n",
              "      <th>time_to_under</th>\n",
              "      <th>label</th>\n",
              "    </tr>\n",
              "  </thead>\n",
              "  <tbody>\n",
              "    <tr>\n",
              "      <th>0</th>\n",
              "      <td>1</td>\n",
              "      <td>40BD89EC85646EFB69E283F39C298E60</td>\n",
              "      <td>Пропуск FacePay</td>\n",
              "      <td>2402</td>\n",
              "      <td>Лефортово БКЛ</td>\n",
              "      <td>11007</td>\n",
              "      <td>Лефортово</td>\n",
              "      <td>11</td>\n",
              "      <td>Большая кольцевая</td>\n",
              "      <td>2022-09-12 05:00:13</td>\n",
              "      <td>216.316667</td>\n",
              "      <td>8001</td>\n",
              "    </tr>\n",
              "    <tr>\n",
              "      <th>1</th>\n",
              "      <td>2</td>\n",
              "      <td>126727A96489CC976A8C08E5CEB00542</td>\n",
              "      <td>СК учащегося 30 дней</td>\n",
              "      <td>110</td>\n",
              "      <td>Войковская ( Южный )</td>\n",
              "      <td>2006</td>\n",
              "      <td>Войковская</td>\n",
              "      <td>2</td>\n",
              "      <td>Замоскворецкая</td>\n",
              "      <td>2022-09-12 05:00:54</td>\n",
              "      <td>648.183333</td>\n",
              "      <td>9011</td>\n",
              "    </tr>\n",
              "  </tbody>\n",
              "</table>\n",
              "</div>\n",
              "      <button class=\"colab-df-convert\" onclick=\"convertToInteractive('df-ba11a4ce-e79c-4265-892b-c9c1074f3879')\"\n",
              "              title=\"Convert this dataframe to an interactive table.\"\n",
              "              style=\"display:none;\">\n",
              "        \n",
              "  <svg xmlns=\"http://www.w3.org/2000/svg\" height=\"24px\"viewBox=\"0 0 24 24\"\n",
              "       width=\"24px\">\n",
              "    <path d=\"M0 0h24v24H0V0z\" fill=\"none\"/>\n",
              "    <path d=\"M18.56 5.44l.94 2.06.94-2.06 2.06-.94-2.06-.94-.94-2.06-.94 2.06-2.06.94zm-11 1L8.5 8.5l.94-2.06 2.06-.94-2.06-.94L8.5 2.5l-.94 2.06-2.06.94zm10 10l.94 2.06.94-2.06 2.06-.94-2.06-.94-.94-2.06-.94 2.06-2.06.94z\"/><path d=\"M17.41 7.96l-1.37-1.37c-.4-.4-.92-.59-1.43-.59-.52 0-1.04.2-1.43.59L10.3 9.45l-7.72 7.72c-.78.78-.78 2.05 0 2.83L4 21.41c.39.39.9.59 1.41.59.51 0 1.02-.2 1.41-.59l7.78-7.78 2.81-2.81c.8-.78.8-2.07 0-2.86zM5.41 20L4 18.59l7.72-7.72 1.47 1.35L5.41 20z\"/>\n",
              "  </svg>\n",
              "      </button>\n",
              "      \n",
              "  <style>\n",
              "    .colab-df-container {\n",
              "      display:flex;\n",
              "      flex-wrap:wrap;\n",
              "      gap: 12px;\n",
              "    }\n",
              "\n",
              "    .colab-df-convert {\n",
              "      background-color: #E8F0FE;\n",
              "      border: none;\n",
              "      border-radius: 50%;\n",
              "      cursor: pointer;\n",
              "      display: none;\n",
              "      fill: #1967D2;\n",
              "      height: 32px;\n",
              "      padding: 0 0 0 0;\n",
              "      width: 32px;\n",
              "    }\n",
              "\n",
              "    .colab-df-convert:hover {\n",
              "      background-color: #E2EBFA;\n",
              "      box-shadow: 0px 1px 2px rgba(60, 64, 67, 0.3), 0px 1px 3px 1px rgba(60, 64, 67, 0.15);\n",
              "      fill: #174EA6;\n",
              "    }\n",
              "\n",
              "    [theme=dark] .colab-df-convert {\n",
              "      background-color: #3B4455;\n",
              "      fill: #D2E3FC;\n",
              "    }\n",
              "\n",
              "    [theme=dark] .colab-df-convert:hover {\n",
              "      background-color: #434B5C;\n",
              "      box-shadow: 0px 1px 3px 1px rgba(0, 0, 0, 0.15);\n",
              "      filter: drop-shadow(0px 1px 2px rgba(0, 0, 0, 0.3));\n",
              "      fill: #FFFFFF;\n",
              "    }\n",
              "  </style>\n",
              "\n",
              "      <script>\n",
              "        const buttonEl =\n",
              "          document.querySelector('#df-ba11a4ce-e79c-4265-892b-c9c1074f3879 button.colab-df-convert');\n",
              "        buttonEl.style.display =\n",
              "          google.colab.kernel.accessAllowed ? 'block' : 'none';\n",
              "\n",
              "        async function convertToInteractive(key) {\n",
              "          const element = document.querySelector('#df-ba11a4ce-e79c-4265-892b-c9c1074f3879');\n",
              "          const dataTable =\n",
              "            await google.colab.kernel.invokeFunction('convertToInteractive',\n",
              "                                                     [key], {});\n",
              "          if (!dataTable) return;\n",
              "\n",
              "          const docLinkHtml = 'Like what you see? Visit the ' +\n",
              "            '<a target=\"_blank\" href=https://colab.research.google.com/notebooks/data_table.ipynb>data table notebook</a>'\n",
              "            + ' to learn more about interactive tables.';\n",
              "          element.innerHTML = '';\n",
              "          dataTable['output_type'] = 'display_data';\n",
              "          await google.colab.output.renderOutput(dataTable, element);\n",
              "          const docLink = document.createElement('div');\n",
              "          docLink.innerHTML = docLinkHtml;\n",
              "          element.appendChild(docLink);\n",
              "        }\n",
              "      </script>\n",
              "    </div>\n",
              "  </div>\n",
              "  "
            ]
          },
          "metadata": {},
          "execution_count": 4
        }
      ]
    },
    {
      "cell_type": "code",
      "source": [
        "def size(x, y):\n",
        "  return plt.figure(figsize = (x, y))"
      ],
      "metadata": {
        "id": "aa71dVMQ0Wbk"
      },
      "execution_count": null,
      "outputs": []
    },
    {
      "cell_type": "code",
      "source": [
        "df.shape"
      ],
      "metadata": {
        "id": "6jT5k0_L-tp1",
        "colab": {
          "base_uri": "https://localhost:8080/"
        },
        "outputId": "324c1bb0-8ee6-42e0-ddb2-066850d5d05e"
      },
      "execution_count": null,
      "outputs": [
        {
          "output_type": "execute_result",
          "data": {
            "text/plain": [
              "(1091021, 12)"
            ]
          },
          "metadata": {},
          "execution_count": 6
        }
      ]
    },
    {
      "cell_type": "code",
      "source": [
        "df = df.drop(['id'], axis = 1)"
      ],
      "metadata": {
        "id": "VJ0oySU2Kzub"
      },
      "execution_count": null,
      "outputs": []
    },
    {
      "cell_type": "code",
      "source": [
        "# проверка на дубликаты строк\n",
        "df.loc[df.duplicated()]"
      ],
      "metadata": {
        "colab": {
          "base_uri": "https://localhost:8080/",
          "height": 49
        },
        "id": "-ouEO-AC_ZmW",
        "outputId": "1d6dc651-e34b-4a42-8884-982dff13edcf"
      },
      "execution_count": null,
      "outputs": [
        {
          "output_type": "execute_result",
          "data": {
            "text/plain": [
              "Empty DataFrame\n",
              "Columns: [ticket_id, ticket_type_nm, entrance_id, entrance_nm, station_id, station_nm, line_id, line_nm, pass_dttm, time_to_under, label]\n",
              "Index: []"
            ],
            "text/html": [
              "\n",
              "  <div id=\"df-f8d44f76-7436-458d-a880-3ddf6ca127ab\">\n",
              "    <div class=\"colab-df-container\">\n",
              "      <div>\n",
              "<style scoped>\n",
              "    .dataframe tbody tr th:only-of-type {\n",
              "        vertical-align: middle;\n",
              "    }\n",
              "\n",
              "    .dataframe tbody tr th {\n",
              "        vertical-align: top;\n",
              "    }\n",
              "\n",
              "    .dataframe thead th {\n",
              "        text-align: right;\n",
              "    }\n",
              "</style>\n",
              "<table border=\"1\" class=\"dataframe\">\n",
              "  <thead>\n",
              "    <tr style=\"text-align: right;\">\n",
              "      <th></th>\n",
              "      <th>ticket_id</th>\n",
              "      <th>ticket_type_nm</th>\n",
              "      <th>entrance_id</th>\n",
              "      <th>entrance_nm</th>\n",
              "      <th>station_id</th>\n",
              "      <th>station_nm</th>\n",
              "      <th>line_id</th>\n",
              "      <th>line_nm</th>\n",
              "      <th>pass_dttm</th>\n",
              "      <th>time_to_under</th>\n",
              "      <th>label</th>\n",
              "    </tr>\n",
              "  </thead>\n",
              "  <tbody>\n",
              "  </tbody>\n",
              "</table>\n",
              "</div>\n",
              "      <button class=\"colab-df-convert\" onclick=\"convertToInteractive('df-f8d44f76-7436-458d-a880-3ddf6ca127ab')\"\n",
              "              title=\"Convert this dataframe to an interactive table.\"\n",
              "              style=\"display:none;\">\n",
              "        \n",
              "  <svg xmlns=\"http://www.w3.org/2000/svg\" height=\"24px\"viewBox=\"0 0 24 24\"\n",
              "       width=\"24px\">\n",
              "    <path d=\"M0 0h24v24H0V0z\" fill=\"none\"/>\n",
              "    <path d=\"M18.56 5.44l.94 2.06.94-2.06 2.06-.94-2.06-.94-.94-2.06-.94 2.06-2.06.94zm-11 1L8.5 8.5l.94-2.06 2.06-.94-2.06-.94L8.5 2.5l-.94 2.06-2.06.94zm10 10l.94 2.06.94-2.06 2.06-.94-2.06-.94-.94-2.06-.94 2.06-2.06.94z\"/><path d=\"M17.41 7.96l-1.37-1.37c-.4-.4-.92-.59-1.43-.59-.52 0-1.04.2-1.43.59L10.3 9.45l-7.72 7.72c-.78.78-.78 2.05 0 2.83L4 21.41c.39.39.9.59 1.41.59.51 0 1.02-.2 1.41-.59l7.78-7.78 2.81-2.81c.8-.78.8-2.07 0-2.86zM5.41 20L4 18.59l7.72-7.72 1.47 1.35L5.41 20z\"/>\n",
              "  </svg>\n",
              "      </button>\n",
              "      \n",
              "  <style>\n",
              "    .colab-df-container {\n",
              "      display:flex;\n",
              "      flex-wrap:wrap;\n",
              "      gap: 12px;\n",
              "    }\n",
              "\n",
              "    .colab-df-convert {\n",
              "      background-color: #E8F0FE;\n",
              "      border: none;\n",
              "      border-radius: 50%;\n",
              "      cursor: pointer;\n",
              "      display: none;\n",
              "      fill: #1967D2;\n",
              "      height: 32px;\n",
              "      padding: 0 0 0 0;\n",
              "      width: 32px;\n",
              "    }\n",
              "\n",
              "    .colab-df-convert:hover {\n",
              "      background-color: #E2EBFA;\n",
              "      box-shadow: 0px 1px 2px rgba(60, 64, 67, 0.3), 0px 1px 3px 1px rgba(60, 64, 67, 0.15);\n",
              "      fill: #174EA6;\n",
              "    }\n",
              "\n",
              "    [theme=dark] .colab-df-convert {\n",
              "      background-color: #3B4455;\n",
              "      fill: #D2E3FC;\n",
              "    }\n",
              "\n",
              "    [theme=dark] .colab-df-convert:hover {\n",
              "      background-color: #434B5C;\n",
              "      box-shadow: 0px 1px 3px 1px rgba(0, 0, 0, 0.15);\n",
              "      filter: drop-shadow(0px 1px 2px rgba(0, 0, 0, 0.3));\n",
              "      fill: #FFFFFF;\n",
              "    }\n",
              "  </style>\n",
              "\n",
              "      <script>\n",
              "        const buttonEl =\n",
              "          document.querySelector('#df-f8d44f76-7436-458d-a880-3ddf6ca127ab button.colab-df-convert');\n",
              "        buttonEl.style.display =\n",
              "          google.colab.kernel.accessAllowed ? 'block' : 'none';\n",
              "\n",
              "        async function convertToInteractive(key) {\n",
              "          const element = document.querySelector('#df-f8d44f76-7436-458d-a880-3ddf6ca127ab');\n",
              "          const dataTable =\n",
              "            await google.colab.kernel.invokeFunction('convertToInteractive',\n",
              "                                                     [key], {});\n",
              "          if (!dataTable) return;\n",
              "\n",
              "          const docLinkHtml = 'Like what you see? Visit the ' +\n",
              "            '<a target=\"_blank\" href=https://colab.research.google.com/notebooks/data_table.ipynb>data table notebook</a>'\n",
              "            + ' to learn more about interactive tables.';\n",
              "          element.innerHTML = '';\n",
              "          dataTable['output_type'] = 'display_data';\n",
              "          await google.colab.output.renderOutput(dataTable, element);\n",
              "          const docLink = document.createElement('div');\n",
              "          docLink.innerHTML = docLinkHtml;\n",
              "          element.appendChild(docLink);\n",
              "        }\n",
              "      </script>\n",
              "    </div>\n",
              "  </div>\n",
              "  "
            ]
          },
          "metadata": {},
          "execution_count": 8
        }
      ]
    },
    {
      "cell_type": "code",
      "source": [
        "df.info()"
      ],
      "metadata": {
        "colab": {
          "base_uri": "https://localhost:8080/"
        },
        "id": "91NZ02cRHu2f",
        "outputId": "be921f48-0602-4c35-8e81-5f84d79d16e4"
      },
      "execution_count": null,
      "outputs": [
        {
          "output_type": "stream",
          "name": "stdout",
          "text": [
            "<class 'pandas.core.frame.DataFrame'>\n",
            "RangeIndex: 1091021 entries, 0 to 1091020\n",
            "Data columns (total 11 columns):\n",
            " #   Column          Non-Null Count    Dtype  \n",
            "---  ------          --------------    -----  \n",
            " 0   ticket_id       1091021 non-null  object \n",
            " 1   ticket_type_nm  1091021 non-null  object \n",
            " 2   entrance_id     1091021 non-null  int64  \n",
            " 3   entrance_nm     1091021 non-null  object \n",
            " 4   station_id      1091021 non-null  int64  \n",
            " 5   station_nm      1091021 non-null  object \n",
            " 6   line_id         1091021 non-null  int64  \n",
            " 7   line_nm         1091021 non-null  object \n",
            " 8   pass_dttm       1091021 non-null  object \n",
            " 9   time_to_under   1091021 non-null  float64\n",
            " 10  label           1091021 non-null  int64  \n",
            "dtypes: float64(1), int64(4), object(6)\n",
            "memory usage: 91.6+ MB\n"
          ]
        }
      ]
    },
    {
      "cell_type": "code",
      "source": [
        "def description(df):\n",
        "    tmp = df.describe()\n",
        "    tmp.loc['nan'] = [df[el].isna().sum() for el in df.describe().columns]\n",
        "    tmp\n",
        "    \n",
        "    for el in df.columns:\n",
        "        print(el)\n",
        "        print(df[el].value_counts(dropna=False))\n",
        "        print(f'NAN:{df[el].isna().sum()}')\n",
        "        print(f' Unique:{df[el].nunique()}')\n",
        "        print()"
      ],
      "metadata": {
        "id": "HQ9bhAOBqyOQ"
      },
      "execution_count": null,
      "outputs": []
    },
    {
      "cell_type": "code",
      "source": [
        "description(df)"
      ],
      "metadata": {
        "id": "Lvg73nVXtboe",
        "colab": {
          "base_uri": "https://localhost:8080/"
        },
        "outputId": "8685e07f-b60e-4d47-9322-573a64830bb0"
      },
      "execution_count": null,
      "outputs": [
        {
          "output_type": "stream",
          "name": "stdout",
          "text": [
            "ticket_id\n",
            "7992E92F9AE0F7506BD439547FD7E11F    8\n",
            "15A93BB90FA63B7D1910B4C72EEA8AC6    8\n",
            "0A223B8CF7138D96A287B99472BDC962    7\n",
            "4CB7CC04C97C67A4D8CF280523B32B28    7\n",
            "25DD6EFE304C3D3114ADE3F6025E84B4    7\n",
            "                                   ..\n",
            "1F6CDFF25D68AD5EB39A0E214FD7A6D0    1\n",
            "75AD0BB4A6B4A64031100E33C128657F    1\n",
            "9CB63B2330396EDB70F4819F2F212C9C    1\n",
            "B5E3F454F5C3C6C3D46083AC49AFE3EE    1\n",
            "3DF2B6366631ECA06274DD2CB5B0DF24    1\n",
            "Name: ticket_id, Length: 335533, dtype: int64\n",
            "NAN:0\n",
            " Unique:335533\n",
            "\n",
            "ticket_type_nm\n",
            "КОШЕЛЕК                                                   262499\n",
            "30 дней ЕДИНЫЙ ТК                                         177041\n",
            "Социальная карта москвича                                 127022\n",
            "30 дней                                                   117064\n",
            "90 дней ЕДИНЫЙ ТК                                          58071\n",
            "30 дней СК студента                                        48658\n",
            "60 поездок ЕДИНЫЙ ТК                                       46542\n",
            "30 дней Пригород ТК                                        45381\n",
            "СК студента 30 дней                                        39395\n",
            "ББК                                                        29674\n",
            "30 дней СК учащегося                                       24307\n",
            "365 дней ЕДИНЫЙ ТК                                         20859\n",
            "СК учащегося 30 дней                                       16933\n",
            "Социальная карта жителя Моск. области                      15551\n",
            "90 дней                                                    12817\n",
            "Пропуск FacePay                                             9234\n",
            "СК студента 90 дней                                         6744\n",
            "СК учащегося 90 дней                                        3169\n",
            "30 дней  Пригород                                           3098\n",
            "БСК дружинника г.Москвы                                     2829\n",
            "СК для сотрудника ГУВД г.Москвы                             2634\n",
            "ВЕСБ МОСКВА (7мин)                                          2555\n",
            "90 дней СК студента                                         2535\n",
            "Социальная карта москвича с сопровождающим                  2272\n",
            "90 дней Пригород ТК                                         2258\n",
            "90 дней СК учащегося                                        1549\n",
            "30 дней СК ординатора                                       1264\n",
            "365 дней Пригород ТК                                        1173\n",
            "СК ординатора 30 дней                                       1166\n",
            "30 дней СК аспиранта                                        1045\n",
            "СК аспиранта 30 дней                                         869\n",
            "365 дней                                                     768\n",
            "Пропуск сотрудника УВД по охране Метрополитена               541\n",
            "СК аспиранта 90 дней                                         510\n",
            "3 суток Единый ТК                                            504\n",
            "СК ординатора 90 дней                                        361\n",
            "ВЕСБ МО (7 мин)                                              335\n",
            "Социальная карта жителя Моск. области с сопровождающим       244\n",
            "Ультралайт Единый (70)                                       233\n",
            "90 дней  Пригород                                            188\n",
            "Временный билет ММ                                           159\n",
            "90 дней СК ординатора                                        142\n",
            "1 сутки ЕДИНЫЙ ТК                                            123\n",
            "Пропуск сотрудника  метрополитена                            113\n",
            "Билет 3 суток ЕДИНЫЙ                                         113\n",
            "90 дней СК аспиранта                                          92\n",
            "ВЕСБ МО (тип 5)                                               61\n",
            "Безналичная транспортная карта                                60\n",
            "ВЕСБ МОСКВА                                                   56\n",
            "30 дней СК ассистента-стажера                                 49\n",
            "Пропуск  сотрудника МЦК                                       44\n",
            "СК ассистента-стажера 30 дней                                 34\n",
            "365 дней  Пригород                                            30\n",
            "Пропуск руководителя метрополитена                            24\n",
            "СК ассистента-стажера 90 дней                                 10\n",
            "1 сутки Пригород ТК                                            7\n",
            "ВЛБ МОСКВА                                                     6\n",
            "ВЕСБ МО с сопровождающим                                       2\n",
            "ВЕСБ МО (тип 6)                                                2\n",
            "Билет 1 сутки ЕДИНЫЙ                                           2\n",
            "Name: ticket_type_nm, dtype: int64\n",
            "NAN:0\n",
            " Unique:60\n",
            "\n",
            "entrance_id\n",
            "153     17810\n",
            "303     13530\n",
            "2263    12205\n",
            "2043    11963\n",
            "218     11949\n",
            "        ...  \n",
            "2116       16\n",
            "2111       10\n",
            "2115        9\n",
            "2114        8\n",
            "2420        4\n",
            "Name: entrance_id, Length: 426, dtype: int64\n",
            "NAN:0\n",
            " Unique:426\n",
            "\n",
            "entrance_nm\n",
            "Щёлковская ( Северный )        17810\n",
            "Кузьминки (Восточный)          13530\n",
            "Некрасовка (Первый)            12205\n",
            "Славянский бульвар (Восток)    11963\n",
            "Новогиреево (Восточный)        11949\n",
            "                               ...  \n",
            "ВВЦ                               16\n",
            "Ул. Эйзенштейна                   10\n",
            "Ул. Ак. Королёва                   9\n",
            "Телецентр                          8\n",
            "Мнёвники (Второй)                  4\n",
            "Name: entrance_nm, Length: 426, dtype: int64\n",
            "NAN:0\n",
            " Unique:426\n",
            "\n",
            "station_id\n",
            "3022     22133\n",
            "7009     20526\n",
            "8003     18725\n",
            "15002    18136\n",
            "8004     16353\n",
            "         ...  \n",
            "13005       20\n",
            "13001       16\n",
            "13006       10\n",
            "13004        9\n",
            "13002        8\n",
            "Name: station_id, Length: 276, dtype: int64\n",
            "NAN:0\n",
            " Unique:276\n",
            "\n",
            "station_nm\n",
            "Щёлковская                  22133\n",
            "Кузьминки                   20526\n",
            "Новогиреево                 18725\n",
            "Некрасовка                  18136\n",
            "Новокосино                  16353\n",
            "                            ...  \n",
            "Улица Милашенкова              20\n",
            "Выставочный центр              16\n",
            "Улица Эйзенштейна              10\n",
            "Улица Академика Королёва        9\n",
            "Телецентр                       8\n",
            "Name: station_nm, Length: 245, dtype: int64\n",
            "NAN:0\n",
            " Unique:245\n",
            "\n",
            "line_id\n",
            "7     156031\n",
            "6     125065\n",
            "2     124918\n",
            "9     124079\n",
            "3     112407\n",
            "10     95624\n",
            "1      81818\n",
            "8      61961\n",
            "14     43385\n",
            "11     41317\n",
            "5      31884\n",
            "15     31858\n",
            "81     28768\n",
            "12     16696\n",
            "4      15077\n",
            "13       133\n",
            "Name: line_id, dtype: int64\n",
            "NAN:0\n",
            " Unique:16\n",
            "\n",
            "line_nm\n",
            "Таганско-Краснопресненская       156031\n",
            "Калужско-Рижская                 125065\n",
            "Замоскворецкая                   124918\n",
            "Серпуховско-Тимирязевская        124079\n",
            "Арбатско-Покровская              112407\n",
            "Люблинско-Дмитровская             95624\n",
            "Сокольническая                    81818\n",
            "Калининская                       61961\n",
            "Московское центральное кольцо     43385\n",
            "Большая кольцевая                 41317\n",
            "Кольцевая                         31884\n",
            "Некрасовская                      31858\n",
            "Солнцевская                       28768\n",
            "Бутовская                         16696\n",
            "Филёвская                         15077\n",
            "Монорельс                           133\n",
            "Name: line_nm, dtype: int64\n",
            "NAN:0\n",
            " Unique:16\n",
            "\n",
            "pass_dttm\n",
            "2022-09-12 08:20:09    29\n",
            "2022-09-12 08:04:31    28\n",
            "2022-09-13 08:11:12    27\n",
            "2022-09-16 08:12:24    27\n",
            "2022-09-13 07:50:23    27\n",
            "                       ..\n",
            "2022-09-15 14:39:56     1\n",
            "2022-09-15 14:39:55     1\n",
            "2022-09-15 14:39:54     1\n",
            "2022-09-15 14:39:52     1\n",
            "2022-09-19 04:10:42     1\n",
            "Name: pass_dttm, Length: 297040, dtype: int64\n",
            "NAN:0\n",
            " Unique:297040\n",
            "\n",
            "time_to_under\n",
            "605.783333     73\n",
            "592.333333     72\n",
            "603.716667     71\n",
            "596.166667     70\n",
            "600.933333     69\n",
            "               ..\n",
            "1019.200000     1\n",
            "1133.766667     1\n",
            "1303.316667     1\n",
            "1031.283333     1\n",
            "898.383333      1\n",
            "Name: time_to_under, Length: 60514, dtype: int64\n",
            "NAN:0\n",
            " Unique:60514\n",
            "\n",
            "label\n",
            "3002     17272\n",
            "6008     15541\n",
            "1022     13758\n",
            "5010     13122\n",
            "7022     13080\n",
            "         ...  \n",
            "13002       24\n",
            "13003       23\n",
            "13006       17\n",
            "13005       14\n",
            "13004        7\n",
            "Name: label, Length: 276, dtype: int64\n",
            "NAN:0\n",
            " Unique:276\n",
            "\n"
          ]
        }
      ]
    },
    {
      "cell_type": "markdown",
      "source": [
        "Удалим столбцы с названиями входа, станции и линии (тк у нас есть по ним коды)"
      ],
      "metadata": {
        "id": "-Ib9rtXsIaMq"
      }
    },
    {
      "cell_type": "code",
      "source": [
        "df= df.drop(columns=['entrance_nm','station_nm', 'line_nm'])"
      ],
      "metadata": {
        "id": "lbI3McW8cP25"
      },
      "execution_count": null,
      "outputs": []
    },
    {
      "cell_type": "markdown",
      "source": [
        "Посмотрим распределение по целевым признакам"
      ],
      "metadata": {
        "id": "iuBNuPit4Se4"
      }
    },
    {
      "cell_type": "code",
      "source": [
        "size(15, 5)\n",
        "sns.distplot(df.time_to_under, bins=100)\n",
        "plt.title('Распределение времени между валидациями')\n",
        "plt.xlim(0, 1500)"
      ],
      "metadata": {
        "colab": {
          "base_uri": "https://localhost:8080/",
          "height": 423
        },
        "id": "DYWvdE-b4wwR",
        "outputId": "32ee6645-2547-4415-877d-089b52c48d14"
      },
      "execution_count": null,
      "outputs": [
        {
          "output_type": "stream",
          "name": "stderr",
          "text": [
            "/usr/local/lib/python3.7/dist-packages/seaborn/distributions.py:2619: FutureWarning: `distplot` is a deprecated function and will be removed in a future version. Please adapt your code to use either `displot` (a figure-level function with similar flexibility) or `histplot` (an axes-level function for histograms).\n",
            "  warnings.warn(msg, FutureWarning)\n"
          ]
        },
        {
          "output_type": "execute_result",
          "data": {
            "text/plain": [
              "(0.0, 1500.0)"
            ]
          },
          "metadata": {},
          "execution_count": 13
        },
        {
          "output_type": "display_data",
          "data": {
            "text/plain": [
              "<Figure size 1080x360 with 1 Axes>"
            ],
            "image/png": "[encoded data removed]"
          },
          "metadata": {
            "needs_background": "light"
          }
        }
      ]
    },
    {
      "cell_type": "code",
      "source": [
        "size(15, 5)\n",
        "sns.distplot(df.label, bins=200)\n",
        "plt.title('Распределение станции при второй валидации')"
      ],
      "metadata": {
        "colab": {
          "base_uri": "https://localhost:8080/",
          "height": 422
        },
        "id": "1TKP_py33PB9",
        "outputId": "2f4eb801-4962-47a0-d248-fd17160a668a"
      },
      "execution_count": null,
      "outputs": [
        {
          "output_type": "stream",
          "name": "stderr",
          "text": [
            "/usr/local/lib/python3.7/dist-packages/seaborn/distributions.py:2619: FutureWarning: `distplot` is a deprecated function and will be removed in a future version. Please adapt your code to use either `displot` (a figure-level function with similar flexibility) or `histplot` (an axes-level function for histograms).\n",
            "  warnings.warn(msg, FutureWarning)\n"
          ]
        },
        {
          "output_type": "execute_result",
          "data": {
            "text/plain": [
              "Text(0.5, 1.0, 'Распределение станции при второй валидации')"
            ]
          },
          "metadata": {},
          "execution_count": 14
        },
        {
          "output_type": "display_data",
          "data": {
            "text/plain": [
              "<Figure size 1080x360 with 1 Axes>"
            ],
            "image/png": "[encoded data removed]"
          },
          "metadata": {
            "needs_background": "light"
          }
        }
      ]
    },
    {
      "cell_type": "code",
      "source": [
        "size(15, 5)\n",
        "sns.distplot(df.station_id, bins=200)\n",
        "plt.title('Распределение станции при первой валидации')"
      ],
      "metadata": {
        "colab": {
          "base_uri": "https://localhost:8080/",
          "height": 423
        },
        "id": "Cd7zj5eGZKbE",
        "outputId": "ddf71a13-e0b0-480b-a160-b7123e6899c5"
      },
      "execution_count": null,
      "outputs": [
        {
          "output_type": "stream",
          "name": "stderr",
          "text": [
            "/usr/local/lib/python3.7/dist-packages/seaborn/distributions.py:2619: FutureWarning: `distplot` is a deprecated function and will be removed in a future version. Please adapt your code to use either `displot` (a figure-level function with similar flexibility) or `histplot` (an axes-level function for histograms).\n",
            "  warnings.warn(msg, FutureWarning)\n"
          ]
        },
        {
          "output_type": "execute_result",
          "data": {
            "text/plain": [
              "Text(0.5, 1.0, 'Распределение станции при первой валидации')"
            ]
          },
          "metadata": {},
          "execution_count": 15
        },
        {
          "output_type": "display_data",
          "data": {
            "text/plain": [
              "<Figure size 1080x360 with 1 Axes>"
            ],
            "image/png": "[encoded data removed]"
          },
          "metadata": {
            "needs_background": "light"
          }
        }
      ]
    },
    {
      "cell_type": "code",
      "source": [
        "df.line_id.value_counts()"
      ],
      "metadata": {
        "colab": {
          "base_uri": "https://localhost:8080/"
        },
        "id": "RJqFO_IpZ9mn",
        "outputId": "5ce94351-2045-4f5e-ae62-a11259307b70"
      },
      "execution_count": null,
      "outputs": [
        {
          "output_type": "execute_result",
          "data": {
            "text/plain": [
              "7     156031\n",
              "6     125065\n",
              "2     124918\n",
              "9     124079\n",
              "3     112407\n",
              "10     95624\n",
              "1      81818\n",
              "8      61961\n",
              "14     43385\n",
              "11     41317\n",
              "5      31884\n",
              "15     31858\n",
              "81     28768\n",
              "12     16696\n",
              "4      15077\n",
              "13       133\n",
              "Name: line_id, dtype: int64"
            ]
          },
          "metadata": {},
          "execution_count": 16
        }
      ]
    },
    {
      "cell_type": "code",
      "source": [
        "df.station_id.value_counts()[12:]"
      ],
      "metadata": {
        "colab": {
          "base_uri": "https://localhost:8080/"
        },
        "id": "5h8PxKZ3V6Cf",
        "outputId": "b0fb4edd-cd10-4e38-c1bd-a20f54068553"
      },
      "execution_count": null,
      "outputs": [
        {
          "output_type": "execute_result",
          "data": {
            "text/plain": [
              "7018     12652\n",
              "10018    12350\n",
              "2023     12246\n",
              "7007     12156\n",
              "3018     11963\n",
              "         ...  \n",
              "13005       20\n",
              "13001       16\n",
              "13006       10\n",
              "13004        9\n",
              "13002        8\n",
              "Name: station_id, Length: 264, dtype: int64"
            ]
          },
          "metadata": {},
          "execution_count": 17
        }
      ]
    },
    {
      "cell_type": "code",
      "source": [
        "df = df.drop(df[df.line_id == 13].index)"
      ],
      "metadata": {
        "id": "I8NEmZ2AY6EY"
      },
      "execution_count": null,
      "outputs": []
    },
    {
      "cell_type": "code",
      "source": [
        "size(10,6)\n",
        "sns.violinplot(df.time_to_under)"
      ],
      "metadata": {
        "colab": {
          "base_uri": "https://localhost:8080/",
          "height": 461
        },
        "id": "TtIDKdhTew1X",
        "outputId": "35087fde-6542-4056-cf08-94ed7340a3dd"
      },
      "execution_count": null,
      "outputs": [
        {
          "output_type": "stream",
          "name": "stderr",
          "text": [
            "/usr/local/lib/python3.7/dist-packages/seaborn/_decorators.py:43: FutureWarning: Pass the following variable as a keyword arg: x. From version 0.12, the only valid positional argument will be `data`, and passing other arguments without an explicit keyword will result in an error or misinterpretation.\n",
            "  FutureWarning\n"
          ]
        },
        {
          "output_type": "execute_result",
          "data": {
            "text/plain": [
              "<matplotlib.axes._subplots.AxesSubplot at 0x7f608ad92310>"
            ]
          },
          "metadata": {},
          "execution_count": 19
        },
        {
          "output_type": "display_data",
          "data": {
            "text/plain": [
              "<Figure size 720x432 with 1 Axes>"
            ],
            "image/png": "[encoded data removed]"
          },
          "metadata": {
            "needs_background": "light"
          }
        }
      ]
    },
    {
      "cell_type": "code",
      "source": [
        "df.query('time_to_under > 1000')"
      ],
      "metadata": {
        "colab": {
          "base_uri": "https://localhost:8080/",
          "height": 424
        },
        "id": "Ly-xI2mhkHs8",
        "outputId": "dcad0c01-7193-4438-db89-23d700a13b67"
      },
      "execution_count": null,
      "outputs": [
        {
          "output_type": "execute_result",
          "data": {
            "text/plain": [
              "                               ticket_id        ticket_type_nm  entrance_id  \\\n",
              "3       015DA44B523C062B5BFEFF3FB0E64B9E               30 дней          110   \n",
              "12      73F283E81B8E0524E3DED3CAF050E62A     90 дней ЕДИНЫЙ ТК          107   \n",
              "63      EB6D484427DC14BFEF8727B346F7A96C   30 дней Пригород ТК          218   \n",
              "102     DB2371D5803440428BCB20478A64F68F               30 дней          297   \n",
              "104     82325F8073E15113B4C8C4F52B0C20AF     30 дней ЕДИНЫЙ ТК          394   \n",
              "...                                  ...                   ...          ...   \n",
              "982434  5C6F6186684ECF925F724C78E85CA159  СК учащегося 30 дней          106   \n",
              "982650  B3F885511050F5A3DA2318F6EB78A8E9  30 дней СК учащегося          354   \n",
              "982873  2E0BC74863D4DFD4989C068040BF40E2   30 дней Пригород ТК          304   \n",
              "983384  0564AE5D2B48F1430305BA4ED5027D14               КОШЕЛЕК         2100   \n",
              "983412  2BED6368E61647504332313A0B3720C6   30 дней Пригород ТК          272   \n",
              "\n",
              "        station_id  line_id            pass_dttm  time_to_under  label  \n",
              "3             2006        2  2022-09-12 05:01:13    1048.233333   2022  \n",
              "12            2018        2  2022-09-12 05:06:36    1051.883333   3015  \n",
              "63            8003        8  2022-09-12 05:22:53    1029.400000   4004  \n",
              "102           7004        7  2022-09-12 05:24:27    1044.500000   7002  \n",
              "104           9023        9  2022-09-12 05:24:32    1016.900000   2013  \n",
              "...            ...      ...                  ...            ...    ...  \n",
              "982434        2018        2  2022-09-18 06:55:51    1021.450000   3005  \n",
              "982650        9012        9  2022-09-18 06:56:58    1009.816667   2013  \n",
              "982873        7009        7  2022-09-18 06:58:09    1011.750000   7003  \n",
              "983384        2002        2  2022-09-18 07:00:39    1004.483333   2008  \n",
              "983412        6016        6  2022-09-18 07:00:45    1003.350000  81013  \n",
              "\n",
              "[3975 rows x 8 columns]"
            ],
            "text/html": [
              "\n",
              "  <div id=\"df-1c282d1b-c094-46c1-86d9-e5083239f5de\">\n",
              "    <div class=\"colab-df-container\">\n",
              "      <div>\n",
              "<style scoped>\n",
              "    .dataframe tbody tr th:only-of-type {\n",
              "        vertical-align: middle;\n",
              "    }\n",
              "\n",
              "    .dataframe tbody tr th {\n",
              "        vertical-align: top;\n",
              "    }\n",
              "\n",
              "    .dataframe thead th {\n",
              "        text-align: right;\n",
              "    }\n",
              "</style>\n",
              "<table border=\"1\" class=\"dataframe\">\n",
              "  <thead>\n",
              "    <tr style=\"text-align: right;\">\n",
              "      <th></th>\n",
              "      <th>ticket_id</th>\n",
              "      <th>ticket_type_nm</th>\n",
              "      <th>entrance_id</th>\n",
              "      <th>station_id</th>\n",
              "      <th>line_id</th>\n",
              "      <th>pass_dttm</th>\n",
              "      <th>time_to_under</th>\n",
              "      <th>label</th>\n",
              "    </tr>\n",
              "  </thead>\n",
              "  <tbody>\n",
              "    <tr>\n",
              "      <th>3</th>\n",
              "      <td>015DA44B523C062B5BFEFF3FB0E64B9E</td>\n",
              "      <td>30 дней</td>\n",
              "      <td>110</td>\n",
              "      <td>2006</td>\n",
              "      <td>2</td>\n",
              "      <td>2022-09-12 05:01:13</td>\n",
              "      <td>1048.233333</td>\n",
              "      <td>2022</td>\n",
              "    </tr>\n",
              "    <tr>\n",
              "      <th>12</th>\n",
              "      <td>73F283E81B8E0524E3DED3CAF050E62A</td>\n",
              "      <td>90 дней ЕДИНЫЙ ТК</td>\n",
              "      <td>107</td>\n",
              "      <td>2018</td>\n",
              "      <td>2</td>\n",
              "      <td>2022-09-12 05:06:36</td>\n",
              "      <td>1051.883333</td>\n",
              "      <td>3015</td>\n",
              "    </tr>\n",
              "    <tr>\n",
              "      <th>63</th>\n",
              "      <td>EB6D484427DC14BFEF8727B346F7A96C</td>\n",
              "      <td>30 дней Пригород ТК</td>\n",
              "      <td>218</td>\n",
              "      <td>8003</td>\n",
              "      <td>8</td>\n",
              "      <td>2022-09-12 05:22:53</td>\n",
              "      <td>1029.400000</td>\n",
              "      <td>4004</td>\n",
              "    </tr>\n",
              "    <tr>\n",
              "      <th>102</th>\n",
              "      <td>DB2371D5803440428BCB20478A64F68F</td>\n",
              "      <td>30 дней</td>\n",
              "      <td>297</td>\n",
              "      <td>7004</td>\n",
              "      <td>7</td>\n",
              "      <td>2022-09-12 05:24:27</td>\n",
              "      <td>1044.500000</td>\n",
              "      <td>7002</td>\n",
              "    </tr>\n",
              "    <tr>\n",
              "      <th>104</th>\n",
              "      <td>82325F8073E15113B4C8C4F52B0C20AF</td>\n",
              "      <td>30 дней ЕДИНЫЙ ТК</td>\n",
              "      <td>394</td>\n",
              "      <td>9023</td>\n",
              "      <td>9</td>\n",
              "      <td>2022-09-12 05:24:32</td>\n",
              "      <td>1016.900000</td>\n",
              "      <td>2013</td>\n",
              "    </tr>\n",
              "    <tr>\n",
              "      <th>...</th>\n",
              "      <td>...</td>\n",
              "      <td>...</td>\n",
              "      <td>...</td>\n",
              "      <td>...</td>\n",
              "      <td>...</td>\n",
              "      <td>...</td>\n",
              "      <td>...</td>\n",
              "      <td>...</td>\n",
              "    </tr>\n",
              "    <tr>\n",
              "      <th>982434</th>\n",
              "      <td>5C6F6186684ECF925F724C78E85CA159</td>\n",
              "      <td>СК учащегося 30 дней</td>\n",
              "      <td>106</td>\n",
              "      <td>2018</td>\n",
              "      <td>2</td>\n",
              "      <td>2022-09-18 06:55:51</td>\n",
              "      <td>1021.450000</td>\n",
              "      <td>3005</td>\n",
              "    </tr>\n",
              "    <tr>\n",
              "      <th>982650</th>\n",
              "      <td>B3F885511050F5A3DA2318F6EB78A8E9</td>\n",
              "      <td>30 дней СК учащегося</td>\n",
              "      <td>354</td>\n",
              "      <td>9012</td>\n",
              "      <td>9</td>\n",
              "      <td>2022-09-18 06:56:58</td>\n",
              "      <td>1009.816667</td>\n",
              "      <td>2013</td>\n",
              "    </tr>\n",
              "    <tr>\n",
              "      <th>982873</th>\n",
              "      <td>2E0BC74863D4DFD4989C068040BF40E2</td>\n",
              "      <td>30 дней Пригород ТК</td>\n",
              "      <td>304</td>\n",
              "      <td>7009</td>\n",
              "      <td>7</td>\n",
              "      <td>2022-09-18 06:58:09</td>\n",
              "      <td>1011.750000</td>\n",
              "      <td>7003</td>\n",
              "    </tr>\n",
              "    <tr>\n",
              "      <th>983384</th>\n",
              "      <td>0564AE5D2B48F1430305BA4ED5027D14</td>\n",
              "      <td>КОШЕЛЕК</td>\n",
              "      <td>2100</td>\n",
              "      <td>2002</td>\n",
              "      <td>2</td>\n",
              "      <td>2022-09-18 07:00:39</td>\n",
              "      <td>1004.483333</td>\n",
              "      <td>2008</td>\n",
              "    </tr>\n",
              "    <tr>\n",
              "      <th>983412</th>\n",
              "      <td>2BED6368E61647504332313A0B3720C6</td>\n",
              "      <td>30 дней Пригород ТК</td>\n",
              "      <td>272</td>\n",
              "      <td>6016</td>\n",
              "      <td>6</td>\n",
              "      <td>2022-09-18 07:00:45</td>\n",
              "      <td>1003.350000</td>\n",
              "      <td>81013</td>\n",
              "    </tr>\n",
              "  </tbody>\n",
              "</table>\n",
              "<p>3975 rows × 8 columns</p>\n",
              "</div>\n",
              "      <button class=\"colab-df-convert\" onclick=\"convertToInteractive('df-1c282d1b-c094-46c1-86d9-e5083239f5de')\"\n",
              "              title=\"Convert this dataframe to an interactive table.\"\n",
              "              style=\"display:none;\">\n",
              "        \n",
              "  <svg xmlns=\"http://www.w3.org/2000/svg\" height=\"24px\"viewBox=\"0 0 24 24\"\n",
              "       width=\"24px\">\n",
              "    <path d=\"M0 0h24v24H0V0z\" fill=\"none\"/>\n",
              "    <path d=\"M18.56 5.44l.94 2.06.94-2.06 2.06-.94-2.06-.94-.94-2.06-.94 2.06-2.06.94zm-11 1L8.5 8.5l.94-2.06 2.06-.94-2.06-.94L8.5 2.5l-.94 2.06-2.06.94zm10 10l.94 2.06.94-2.06 2.06-.94-2.06-.94-.94-2.06-.94 2.06-2.06.94z\"/><path d=\"M17.41 7.96l-1.37-1.37c-.4-.4-.92-.59-1.43-.59-.52 0-1.04.2-1.43.59L10.3 9.45l-7.72 7.72c-.78.78-.78 2.05 0 2.83L4 21.41c.39.39.9.59 1.41.59.51 0 1.02-.2 1.41-.59l7.78-7.78 2.81-2.81c.8-.78.8-2.07 0-2.86zM5.41 20L4 18.59l7.72-7.72 1.47 1.35L5.41 20z\"/>\n",
              "  </svg>\n",
              "      </button>\n",
              "      \n",
              "  <style>\n",
              "    .colab-df-container {\n",
              "      display:flex;\n",
              "      flex-wrap:wrap;\n",
              "      gap: 12px;\n",
              "    }\n",
              "\n",
              "    .colab-df-convert {\n",
              "      background-color: #E8F0FE;\n",
              "      border: none;\n",
              "      border-radius: 50%;\n",
              "      cursor: pointer;\n",
              "      display: none;\n",
              "      fill: #1967D2;\n",
              "      height: 32px;\n",
              "      padding: 0 0 0 0;\n",
              "      width: 32px;\n",
              "    }\n",
              "\n",
              "    .colab-df-convert:hover {\n",
              "      background-color: #E2EBFA;\n",
              "      box-shadow: 0px 1px 2px rgba(60, 64, 67, 0.3), 0px 1px 3px 1px rgba(60, 64, 67, 0.15);\n",
              "      fill: #174EA6;\n",
              "    }\n",
              "\n",
              "    [theme=dark] .colab-df-convert {\n",
              "      background-color: #3B4455;\n",
              "      fill: #D2E3FC;\n",
              "    }\n",
              "\n",
              "    [theme=dark] .colab-df-convert:hover {\n",
              "      background-color: #434B5C;\n",
              "      box-shadow: 0px 1px 3px 1px rgba(0, 0, 0, 0.15);\n",
              "      filter: drop-shadow(0px 1px 2px rgba(0, 0, 0, 0.3));\n",
              "      fill: #FFFFFF;\n",
              "    }\n",
              "  </style>\n",
              "\n",
              "      <script>\n",
              "        const buttonEl =\n",
              "          document.querySelector('#df-1c282d1b-c094-46c1-86d9-e5083239f5de button.colab-df-convert');\n",
              "        buttonEl.style.display =\n",
              "          google.colab.kernel.accessAllowed ? 'block' : 'none';\n",
              "\n",
              "        async function convertToInteractive(key) {\n",
              "          const element = document.querySelector('#df-1c282d1b-c094-46c1-86d9-e5083239f5de');\n",
              "          const dataTable =\n",
              "            await google.colab.kernel.invokeFunction('convertToInteractive',\n",
              "                                                     [key], {});\n",
              "          if (!dataTable) return;\n",
              "\n",
              "          const docLinkHtml = 'Like what you see? Visit the ' +\n",
              "            '<a target=\"_blank\" href=https://colab.research.google.com/notebooks/data_table.ipynb>data table notebook</a>'\n",
              "            + ' to learn more about interactive tables.';\n",
              "          element.innerHTML = '';\n",
              "          dataTable['output_type'] = 'display_data';\n",
              "          await google.colab.output.renderOutput(dataTable, element);\n",
              "          const docLink = document.createElement('div');\n",
              "          docLink.innerHTML = docLinkHtml;\n",
              "          element.appendChild(docLink);\n",
              "        }\n",
              "      </script>\n",
              "    </div>\n",
              "  </div>\n",
              "  "
            ]
          },
          "metadata": {},
          "execution_count": 20
        }
      ]
    },
    {
      "cell_type": "code",
      "source": [
        "df = df.drop(df[df.time_to_under > 1000].index)"
      ],
      "metadata": {
        "id": "MrJ36_bpkdff"
      },
      "execution_count": null,
      "outputs": []
    },
    {
      "cell_type": "markdown",
      "source": [
        "Переведем тип билета в категориальный вид"
      ],
      "metadata": {
        "id": "z2q-Jhi-52F9"
      }
    },
    {
      "cell_type": "code",
      "source": [
        "encoder = preprocessing.LabelEncoder()\n",
        "encoder = encoder.fit(df.ticket_type_nm)\n",
        "df.ticket_type_nm = encoder.transform(df.ticket_type_nm)"
      ],
      "metadata": {
        "id": "9YLWmU64vFUx"
      },
      "execution_count": null,
      "outputs": []
    },
    {
      "cell_type": "markdown",
      "source": [
        "У нас очень много уникальных значений в стороке с номером билета (30% от всех данных), удалим их"
      ],
      "metadata": {
        "id": "kbCEpI7k6LLO"
      }
    },
    {
      "cell_type": "code",
      "source": [
        "df = df.drop([\"ticket_id\"], axis = 1)"
      ],
      "metadata": {
        "id": "Zmy8NaFm6ivK"
      },
      "execution_count": null,
      "outputs": []
    },
    {
      "cell_type": "markdown",
      "source": [
        "У нас есть столбец с датой и временем первой валидации. Поскольку задача не по временныи рядам, попробуем взять из этих данных часть. Месяц и год у нас один и тот же, можно взять дату (как вариант еще с меткой выходной ли день) и час и минуты."
      ],
      "metadata": {
        "id": "VczY3wIH79h-"
      }
    },
    {
      "cell_type": "code",
      "source": [
        "df[\"day\"] = df.pass_dttm.map(lambda x: int(x.split(\"-\")[2].split(\" \")[0]))\n",
        "df[\"hour\"] = df.pass_dttm.map(lambda x: (int(x.split(\"-\")[2].split(\" \")[1].split(\":\")[0]) * 60))\n",
        "df[\"minute\"] = df.pass_dttm.map(lambda x: int(x.split(\"-\")[2].split(\" \")[1].split(\":\")[1]))\n"
      ],
      "metadata": {
        "id": "pSiNjlb378o8"
      },
      "execution_count": null,
      "outputs": []
    },
    {
      "cell_type": "code",
      "source": [
        "df['time'] = df['hour'] + df['minute']"
      ],
      "metadata": {
        "id": "AqyTA-cFDwOw"
      },
      "execution_count": null,
      "outputs": []
    },
    {
      "cell_type": "code",
      "source": [
        "df.tail()"
      ],
      "metadata": {
        "colab": {
          "base_uri": "https://localhost:8080/",
          "height": 206
        },
        "id": "JIM3FGwN71gZ",
        "outputId": "65bc6fb8-fa95-4ee7-a36e-f08459f3baba"
      },
      "execution_count": null,
      "outputs": [
        {
          "output_type": "execute_result",
          "data": {
            "text/plain": [
              "         ticket_type_nm  entrance_id  station_id  line_id  \\\n",
              "1091016              40         2283       15005       15   \n",
              "1091017              40          278        6007        6   \n",
              "1091018              40          118        2010        2   \n",
              "1091019              40         2452       11014       11   \n",
              "1091020              40          320        7015        7   \n",
              "\n",
              "                   pass_dttm  time_to_under  label  day  hour  minute  time  \n",
              "1091016  2022-09-19 02:54:50     124.750000  15005   19   120      54   174  \n",
              "1091017  2022-09-19 03:06:02      56.066667   6007   19   180       6   186  \n",
              "1091018  2022-09-19 03:17:00      91.283333   2010   19   180      17   197  \n",
              "1091019  2022-09-19 03:23:30      47.900000  11014   19   180      23   203  \n",
              "1091020  2022-09-19 04:10:42      34.100000   7015   19   240      10   250  "
            ],
            "text/html": [
              "\n",
              "  <div id=\"df-a923ee7e-778d-45be-9da3-82d68cb66c4e\">\n",
              "    <div class=\"colab-df-container\">\n",
              "      <div>\n",
              "<style scoped>\n",
              "    .dataframe tbody tr th:only-of-type {\n",
              "        vertical-align: middle;\n",
              "    }\n",
              "\n",
              "    .dataframe tbody tr th {\n",
              "        vertical-align: top;\n",
              "    }\n",
              "\n",
              "    .dataframe thead th {\n",
              "        text-align: right;\n",
              "    }\n",
              "</style>\n",
              "<table border=\"1\" class=\"dataframe\">\n",
              "  <thead>\n",
              "    <tr style=\"text-align: right;\">\n",
              "      <th></th>\n",
              "      <th>ticket_type_nm</th>\n",
              "      <th>entrance_id</th>\n",
              "      <th>station_id</th>\n",
              "      <th>line_id</th>\n",
              "      <th>pass_dttm</th>\n",
              "      <th>time_to_under</th>\n",
              "      <th>label</th>\n",
              "      <th>day</th>\n",
              "      <th>hour</th>\n",
              "      <th>minute</th>\n",
              "      <th>time</th>\n",
              "    </tr>\n",
              "  </thead>\n",
              "  <tbody>\n",
              "    <tr>\n",
              "      <th>1091016</th>\n",
              "      <td>40</td>\n",
              "      <td>2283</td>\n",
              "      <td>15005</td>\n",
              "      <td>15</td>\n",
              "      <td>2022-09-19 02:54:50</td>\n",
              "      <td>124.750000</td>\n",
              "      <td>15005</td>\n",
              "      <td>19</td>\n",
              "      <td>120</td>\n",
              "      <td>54</td>\n",
              "      <td>174</td>\n",
              "    </tr>\n",
              "    <tr>\n",
              "      <th>1091017</th>\n",
              "      <td>40</td>\n",
              "      <td>278</td>\n",
              "      <td>6007</td>\n",
              "      <td>6</td>\n",
              "      <td>2022-09-19 03:06:02</td>\n",
              "      <td>56.066667</td>\n",
              "      <td>6007</td>\n",
              "      <td>19</td>\n",
              "      <td>180</td>\n",
              "      <td>6</td>\n",
              "      <td>186</td>\n",
              "    </tr>\n",
              "    <tr>\n",
              "      <th>1091018</th>\n",
              "      <td>40</td>\n",
              "      <td>118</td>\n",
              "      <td>2010</td>\n",
              "      <td>2</td>\n",
              "      <td>2022-09-19 03:17:00</td>\n",
              "      <td>91.283333</td>\n",
              "      <td>2010</td>\n",
              "      <td>19</td>\n",
              "      <td>180</td>\n",
              "      <td>17</td>\n",
              "      <td>197</td>\n",
              "    </tr>\n",
              "    <tr>\n",
              "      <th>1091019</th>\n",
              "      <td>40</td>\n",
              "      <td>2452</td>\n",
              "      <td>11014</td>\n",
              "      <td>11</td>\n",
              "      <td>2022-09-19 03:23:30</td>\n",
              "      <td>47.900000</td>\n",
              "      <td>11014</td>\n",
              "      <td>19</td>\n",
              "      <td>180</td>\n",
              "      <td>23</td>\n",
              "      <td>203</td>\n",
              "    </tr>\n",
              "    <tr>\n",
              "      <th>1091020</th>\n",
              "      <td>40</td>\n",
              "      <td>320</td>\n",
              "      <td>7015</td>\n",
              "      <td>7</td>\n",
              "      <td>2022-09-19 04:10:42</td>\n",
              "      <td>34.100000</td>\n",
              "      <td>7015</td>\n",
              "      <td>19</td>\n",
              "      <td>240</td>\n",
              "      <td>10</td>\n",
              "      <td>250</td>\n",
              "    </tr>\n",
              "  </tbody>\n",
              "</table>\n",
              "</div>\n",
              "      <button class=\"colab-df-convert\" onclick=\"convertToInteractive('df-a923ee7e-778d-45be-9da3-82d68cb66c4e')\"\n",
              "              title=\"Convert this dataframe to an interactive table.\"\n",
              "              style=\"display:none;\">\n",
              "        \n",
              "  <svg xmlns=\"http://www.w3.org/2000/svg\" height=\"24px\"viewBox=\"0 0 24 24\"\n",
              "       width=\"24px\">\n",
              "    <path d=\"M0 0h24v24H0V0z\" fill=\"none\"/>\n",
              "    <path d=\"M18.56 5.44l.94 2.06.94-2.06 2.06-.94-2.06-.94-.94-2.06-.94 2.06-2.06.94zm-11 1L8.5 8.5l.94-2.06 2.06-.94-2.06-.94L8.5 2.5l-.94 2.06-2.06.94zm10 10l.94 2.06.94-2.06 2.06-.94-2.06-.94-.94-2.06-.94 2.06-2.06.94z\"/><path d=\"M17.41 7.96l-1.37-1.37c-.4-.4-.92-.59-1.43-.59-.52 0-1.04.2-1.43.59L10.3 9.45l-7.72 7.72c-.78.78-.78 2.05 0 2.83L4 21.41c.39.39.9.59 1.41.59.51 0 1.02-.2 1.41-.59l7.78-7.78 2.81-2.81c.8-.78.8-2.07 0-2.86zM5.41 20L4 18.59l7.72-7.72 1.47 1.35L5.41 20z\"/>\n",
              "  </svg>\n",
              "      </button>\n",
              "      \n",
              "  <style>\n",
              "    .colab-df-container {\n",
              "      display:flex;\n",
              "      flex-wrap:wrap;\n",
              "      gap: 12px;\n",
              "    }\n",
              "\n",
              "    .colab-df-convert {\n",
              "      background-color: #E8F0FE;\n",
              "      border: none;\n",
              "      border-radius: 50%;\n",
              "      cursor: pointer;\n",
              "      display: none;\n",
              "      fill: #1967D2;\n",
              "      height: 32px;\n",
              "      padding: 0 0 0 0;\n",
              "      width: 32px;\n",
              "    }\n",
              "\n",
              "    .colab-df-convert:hover {\n",
              "      background-color: #E2EBFA;\n",
              "      box-shadow: 0px 1px 2px rgba(60, 64, 67, 0.3), 0px 1px 3px 1px rgba(60, 64, 67, 0.15);\n",
              "      fill: #174EA6;\n",
              "    }\n",
              "\n",
              "    [theme=dark] .colab-df-convert {\n",
              "      background-color: #3B4455;\n",
              "      fill: #D2E3FC;\n",
              "    }\n",
              "\n",
              "    [theme=dark] .colab-df-convert:hover {\n",
              "      background-color: #434B5C;\n",
              "      box-shadow: 0px 1px 3px 1px rgba(0, 0, 0, 0.15);\n",
              "      filter: drop-shadow(0px 1px 2px rgba(0, 0, 0, 0.3));\n",
              "      fill: #FFFFFF;\n",
              "    }\n",
              "  </style>\n",
              "\n",
              "      <script>\n",
              "        const buttonEl =\n",
              "          document.querySelector('#df-a923ee7e-778d-45be-9da3-82d68cb66c4e button.colab-df-convert');\n",
              "        buttonEl.style.display =\n",
              "          google.colab.kernel.accessAllowed ? 'block' : 'none';\n",
              "\n",
              "        async function convertToInteractive(key) {\n",
              "          const element = document.querySelector('#df-a923ee7e-778d-45be-9da3-82d68cb66c4e');\n",
              "          const dataTable =\n",
              "            await google.colab.kernel.invokeFunction('convertToInteractive',\n",
              "                                                     [key], {});\n",
              "          if (!dataTable) return;\n",
              "\n",
              "          const docLinkHtml = 'Like what you see? Visit the ' +\n",
              "            '<a target=\"_blank\" href=https://colab.research.google.com/notebooks/data_table.ipynb>data table notebook</a>'\n",
              "            + ' to learn more about interactive tables.';\n",
              "          element.innerHTML = '';\n",
              "          dataTable['output_type'] = 'display_data';\n",
              "          await google.colab.output.renderOutput(dataTable, element);\n",
              "          const docLink = document.createElement('div');\n",
              "          docLink.innerHTML = docLinkHtml;\n",
              "          element.appendChild(docLink);\n",
              "        }\n",
              "      </script>\n",
              "    </div>\n",
              "  </div>\n",
              "  "
            ]
          },
          "metadata": {},
          "execution_count": 26
        }
      ]
    },
    {
      "cell_type": "code",
      "source": [
        "df['weekend'] = df['day']\n",
        "df['weekend'] = df['weekend'].replace(17, 1)\n",
        "df['weekend'] = df['weekend'].replace(18, 1)\n",
        "df.loc[(df.weekend > 1), 'weekend'] = 0\n",
        "df['weekend'].value_counts()"
      ],
      "metadata": {
        "id": "fZ-_yb_fN5Ab",
        "colab": {
          "base_uri": "https://localhost:8080/"
        },
        "outputId": "c4036ed3-dca5-4a6e-8f3a-cd67969deac2"
      },
      "execution_count": null,
      "outputs": [
        {
          "output_type": "execute_result",
          "data": {
            "text/plain": [
              "0    831400\n",
              "1    255513\n",
              "Name: weekend, dtype: int64"
            ]
          },
          "metadata": {},
          "execution_count": 27
        }
      ]
    },
    {
      "cell_type": "code",
      "source": [
        "df = df.drop(['pass_dttm', 'hour', 'minute', 'line_id'], axis = 1)"
      ],
      "metadata": {
        "id": "Pr04k0TtEROd"
      },
      "execution_count": null,
      "outputs": []
    },
    {
      "cell_type": "markdown",
      "source": [
        "Теперь осмотрим зависимость целевых признаков на графике"
      ],
      "metadata": {
        "id": "TQJ-CAR1F56w"
      }
    },
    {
      "cell_type": "code",
      "source": [
        "plt.figure(figsize = (25, 10))\n",
        "sns.heatmap(df.corr(), annot = True, linewidths=0.8, cmap = 'Spectral')"
      ],
      "metadata": {
        "id": "8Zvab-WMijvO",
        "colab": {
          "base_uri": "https://localhost:8080/",
          "height": 613
        },
        "outputId": "c19403ed-7bb7-4aa0-e19b-9fb7171735dd"
      },
      "execution_count": null,
      "outputs": [
        {
          "output_type": "execute_result",
          "data": {
            "text/plain": [
              "<matplotlib.axes._subplots.AxesSubplot at 0x7f6087c59f10>"
            ]
          },
          "metadata": {},
          "execution_count": 29
        },
        {
          "output_type": "display_data",
          "data": {
            "text/plain": [
              "<Figure size 1800x720 with 2 Axes>"
            ],
            "image/png": "[encoded data removed]"
          },
          "metadata": {
            "needs_background": "light"
          }
        }
      ]
    },
    {
      "cell_type": "markdown",
      "source": [
        "Перевод числовых данных в формат int8 с проверкой с целью уменьшения размера данных"
      ],
      "metadata": {
        "id": "NQrpG7GOLDvA"
      }
    },
    {
      "cell_type": "code",
      "source": [
        "num_feat = df.select_dtypes('int64')\n",
        "for el in num_feat:\n",
        "    for n_type in (np.int32, np.int16, np.int8):\n",
        "        if (df[el] == df[el].astype(n_type)).sum() == len(df):\n",
        "            df[el] = df[el].astype(n_type)"
      ],
      "metadata": {
        "id": "yP6wMG1MyLo2"
      },
      "execution_count": null,
      "outputs": []
    },
    {
      "cell_type": "code",
      "source": [
        "y = df[['time_to_under', 'label']]"
      ],
      "metadata": {
        "id": "DCSqMNzMP0Ig"
      },
      "execution_count": null,
      "outputs": []
    },
    {
      "cell_type": "code",
      "source": [
        "X = df.drop(columns = ['time_to_under', 'label'])"
      ],
      "metadata": {
        "id": "QMzL73UMKpV4"
      },
      "execution_count": null,
      "outputs": []
    },
    {
      "cell_type": "code",
      "source": [
        "y.value_counts()"
      ],
      "metadata": {
        "id": "r2tu7hiTQ92F",
        "colab": {
          "base_uri": "https://localhost:8080/"
        },
        "outputId": "83cd3fab-c2ae-444c-e6a5-3075ac60b0f1"
      },
      "execution_count": null,
      "outputs": [
        {
          "output_type": "execute_result",
          "data": {
            "text/plain": [
              "time_to_under  label\n",
              "37.500000      3023     7\n",
              "37.583333      3023     7\n",
              "36.083333      3023     7\n",
              "605.883333     6007     6\n",
              "681.166667     6019     6\n",
              "                       ..\n",
              "426.916667     11008    1\n",
              "426.933333     1022     1\n",
              "               2007     1\n",
              "               3002     1\n",
              "1000.000000    6020     1\n",
              "Length: 1009455, dtype: int64"
            ]
          },
          "metadata": {},
          "execution_count": 33
        }
      ]
    },
    {
      "cell_type": "code",
      "source": [
        "# from imblearn.over_sampling import SMOTE\n",
        "# smote = SMOTE()\n",
        "#X_sm, y_sm = smote.fit_resample(X, y)\n"
      ],
      "metadata": {
        "id": "BgjY-Q-APsOL"
      },
      "execution_count": null,
      "outputs": []
    },
    {
      "cell_type": "markdown",
      "metadata": {
        "id": "Bgub0NNL8oVe"
      },
      "source": [
        "**Split dataset**"
      ]
    },
    {
      "cell_type": "code",
      "source": [
        "X_train, X_test, y_train, y_test = train_test_split(X, y, test_size=0.2, random_state=42)"
      ],
      "metadata": {
        "id": "6XOKVfQQUJzB"
      },
      "execution_count": null,
      "outputs": []
    },
    {
      "cell_type": "markdown",
      "metadata": {
        "id": "ZpvBlCYK52VB"
      },
      "source": [
        "\n",
        "\n",
        "\n",
        "#Random Forest Regression"
      ]
    },
    {
      "cell_type": "code",
      "execution_count": null,
      "metadata": {
        "id": "ikqzk7WAwC9R"
      },
      "outputs": [],
      "source": [
        "from sklearn.ensemble import RandomForestClassifier, RandomForestRegressor"
      ]
    },
    {
      "cell_type": "code",
      "source": [
        "rfc_model = RandomForestClassifier(n_estimators = 50, random_state = 42, max_depth=12)"
      ],
      "metadata": {
        "id": "jej5bPTv6gom"
      },
      "execution_count": null,
      "outputs": []
    },
    {
      "cell_type": "code",
      "source": [
        "rfc_model.fit(X_train, y_train['label'])\n",
        "y_rfc_clas = rfc_model.predict(X_test)\n",
        "recall = recall_score(y_test['label'], y_rfc_clas, average = \"macro\" )\n",
        "print(f'Recall test {round(recall, 4)}')"
      ],
      "metadata": {
        "colab": {
          "base_uri": "https://localhost:8080/"
        },
        "id": "SqWmmV1FVCwG",
        "outputId": "8c242ebf-b2ec-4d52-bb1f-8c04e1e4b295"
      },
      "execution_count": null,
      "outputs": [
        {
          "output_type": "stream",
          "name": "stdout",
          "text": [
            "Recall test 0.0674\n"
          ]
        }
      ]
    },
    {
      "cell_type": "code",
      "source": [
        "rfr_model = RandomForestRegressor(n_estimators = 70, random_state = 42, max_depth=12, min_samples_leaf=5)"
      ],
      "metadata": {
        "id": "3iFjInx-MNkz"
      },
      "execution_count": null,
      "outputs": []
    },
    {
      "cell_type": "code",
      "source": [
        "rfr_model.fit(X_train, y_train['time_to_under'])\n",
        "y_rfc_reg = rfr_model.predict(X_test)\n",
        "r2 = r2_score(y_test[\"time_to_under\"], y_rfc_reg)\n",
        "print(f'R2 test {round(r2, 4)}')"
      ],
      "metadata": {
        "colab": {
          "base_uri": "https://localhost:8080/"
        },
        "id": "2bzQ33ZUlQCo",
        "outputId": "75a34b9e-9d55-41a0-cf3d-a879a9a93334"
      },
      "execution_count": null,
      "outputs": [
        {
          "output_type": "stream",
          "name": "stdout",
          "text": [
            "R2 test 0.5332\n"
          ]
        }
      ]
    },
    {
      "cell_type": "code",
      "execution_count": null,
      "metadata": {
        "id": "K9cakR2dXFdd",
        "colab": {
          "base_uri": "https://localhost:8080/",
          "height": 405
        },
        "outputId": "ccfa9e78-e083-456f-86cd-b4b2ce384517"
      },
      "outputs": [
        {
          "output_type": "stream",
          "name": "stdout",
          "text": [
            "['4']\n"
          ]
        },
        {
          "output_type": "display_data",
          "data": {
            "text/plain": [
              "<Figure size 698.976x432 with 1 Axes>"
            ],
            "image/png": "[encoded data removed]"
          },
          "metadata": {
            "needs_background": "light"
          }
        }
      ],
      "source": [
        "# Выбор важных признаков\n",
        "\n",
        "important_features = []\n",
        "for x,i in enumerate(rfr_model.feature_importances_):\n",
        "    if i>np.average(rfr_model.feature_importances_):\n",
        "        important_features.append(str(x))\n",
        "print (important_features)\n",
        "\n",
        "\n",
        "plt.figure(figsize=(6 * 1.618, 6))\n",
        "feature_import=rfr_model.feature_importances_\n",
        "index = np.arange(len(feature_import))\n",
        "plt.bar(index, feature_import, color='blue', alpha=0.6)\n",
        "plt.xlabel('features')\n",
        "plt.ylabel('importance')\n",
        "plt.xticks(index)\n",
        "plt.show()"
      ]
    },
    {
      "cell_type": "code",
      "source": [
        "X_train.info()"
      ],
      "metadata": {
        "id": "lOza-4LnQCc7",
        "colab": {
          "base_uri": "https://localhost:8080/"
        },
        "outputId": "60cd8c33-c9b5-4cd4-924b-c5fb1af316f5"
      },
      "execution_count": null,
      "outputs": [
        {
          "output_type": "stream",
          "name": "stdout",
          "text": [
            "<class 'pandas.core.frame.DataFrame'>\n",
            "Int64Index: 869530 entries, 641470 to 122132\n",
            "Data columns (total 6 columns):\n",
            " #   Column          Non-Null Count   Dtype\n",
            "---  ------          --------------   -----\n",
            " 0   ticket_type_nm  869530 non-null  int64\n",
            " 1   entrance_id     869530 non-null  int64\n",
            " 2   station_id      869530 non-null  int64\n",
            " 3   day             869530 non-null  int64\n",
            " 4   time            869530 non-null  int64\n",
            " 5   weekend         869530 non-null  int64\n",
            "dtypes: int64(6)\n",
            "memory usage: 46.4 MB\n"
          ]
        }
      ]
    },
    {
      "cell_type": "markdown",
      "source": [
        "#Light GBM"
      ],
      "metadata": {
        "id": "94YrjeriY-9_"
      }
    },
    {
      "cell_type": "code",
      "source": [
        "!pip install lightgbm\n",
        "import lightgbm as lgb\n",
        "from lightgbm import LGBMClassifier, LGBMRegressor"
      ],
      "metadata": {
        "id": "uq3wTF0daH_4",
        "colab": {
          "base_uri": "https://localhost:8080/"
        },
        "outputId": "e9064f9b-a818-47f8-aea1-447507af9b26"
      },
      "execution_count": null,
      "outputs": [
        {
          "output_type": "stream",
          "name": "stdout",
          "text": [
            "Looking in indexes: https://pypi.org/simple, https://us-python.pkg.dev/colab-wheels/public/simple/\n",
            "Requirement already satisfied: lightgbm in /usr/local/lib/python3.7/dist-packages (2.2.3)\n",
            "Requirement already satisfied: scikit-learn in /usr/local/lib/python3.7/dist-packages (from lightgbm) (1.0.2)\n",
            "Requirement already satisfied: scipy in /usr/local/lib/python3.7/dist-packages (from lightgbm) (1.7.3)\n",
            "Requirement already satisfied: numpy in /usr/local/lib/python3.7/dist-packages (from lightgbm) (1.21.6)\n",
            "Requirement already satisfied: joblib>=0.11 in /usr/local/lib/python3.7/dist-packages (from scikit-learn->lightgbm) (1.2.0)\n",
            "Requirement already satisfied: threadpoolctl>=2.0.0 in /usr/local/lib/python3.7/dist-packages (from scikit-learn->lightgbm) (3.1.0)\n"
          ]
        }
      ]
    },
    {
      "cell_type": "code",
      "source": [
        "lgbm = LGBMClassifier(n_estimators = 20, random_state=42)"
      ],
      "metadata": {
        "id": "6BnCVTwJWi83"
      },
      "execution_count": null,
      "outputs": []
    },
    {
      "cell_type": "code",
      "source": [
        "lgbm.fit(X_train, y_train['label'])\n",
        "y_lgb_clas = lgbm.predict(X_test)\n",
        "recall = recall_score(y_test['label'], y_lgb_clas, average = \"macro\" )\n",
        "print(f'Recall test {round(recall, 4)}')"
      ],
      "metadata": {
        "id": "Klf9Yr8dXpo3",
        "colab": {
          "base_uri": "https://localhost:8080/"
        },
        "outputId": "04f9bf08-ef21-4a4d-9072-ca742d5ed732"
      },
      "execution_count": null,
      "outputs": [
        {
          "output_type": "stream",
          "name": "stdout",
          "text": [
            "Recall test 0.0677\n"
          ]
        },
        {
          "output_type": "stream",
          "name": "stderr",
          "text": [
            "/usr/local/lib/python3.7/dist-packages/sklearn/metrics/_classification.py:1318: UndefinedMetricWarning: Recall is ill-defined and being set to 0.0 in labels with no true samples. Use `zero_division` parameter to control this behavior.\n",
            "  _warn_prf(average, modifier, msg_start, len(result))\n"
          ]
        }
      ]
    },
    {
      "cell_type": "code",
      "source": [
        "lgb = LGBMRegressor(n_estimators = 400, random_state=42, num_leaves=40)"
      ],
      "metadata": {
        "id": "ad8WD9dvdn9k"
      },
      "execution_count": null,
      "outputs": []
    },
    {
      "cell_type": "code",
      "source": [
        "lgb.fit(X_train, y_train['time_to_under'])\n",
        "y_lgb_reg = lgb.predict(X_test)\n",
        "r2 = r2_score(y_test[\"time_to_under\"], y_lgb_reg)\n",
        "print(f'R2 test {round(r2, 4)}')"
      ],
      "metadata": {
        "colab": {
          "base_uri": "https://localhost:8080/"
        },
        "id": "dPoFlg7bdxx-",
        "outputId": "0dc9a9b0-67e6-48a8-f099-b4b80c40687a"
      },
      "execution_count": null,
      "outputs": [
        {
          "output_type": "stream",
          "name": "stdout",
          "text": [
            "R2 test 0.5375\n"
          ]
        }
      ]
    },
    {
      "cell_type": "code",
      "source": [
        "result = 0.5 * r2 + 0.5 * recall\n",
        "print('Result', result)"
      ],
      "metadata": {
        "id": "BKyBmj7Y1Wpa",
        "colab": {
          "base_uri": "https://localhost:8080/"
        },
        "outputId": "aa260f72-0aee-48fd-fd3f-974886f16b49"
      },
      "execution_count": null,
      "outputs": [
        {
          "output_type": "stream",
          "name": "stdout",
          "text": [
            "Result 0.30261983628865774\n"
          ]
        }
      ]
    },
    {
      "cell_type": "markdown",
      "source": [
        "# TEST"
      ],
      "metadata": {
        "id": "RUGPIuA3c8ic"
      }
    },
    {
      "cell_type": "code",
      "source": [
        "test = pd.read_csv('/content/drive/MyDrive/test_metro.csv')"
      ],
      "metadata": {
        "id": "NRuX3CRvnJeP"
      },
      "execution_count": null,
      "outputs": []
    },
    {
      "cell_type": "code",
      "source": [
        "test = test.drop(columns = ['entrance_nm','station_nm', 'line_nm', 'id', 'ticket_id'])\n",
        "\n",
        "test[\"day\"] = test.pass_dttm.map(lambda x: int(x.split(\"-\")[2].split(\" \")[0]))\n",
        "test[\"hour\"] = test.pass_dttm.map(lambda x: (int(x.split(\"-\")[2].split(\" \")[1].split(\":\")[0]) * 60))\n",
        "test[\"minute\"] = test.pass_dttm.map(lambda x: int(x.split(\"-\")[2].split(\" \")[1].split(\":\")[0]))\n",
        "test[\"minute\"] = test.pass_dttm.map(lambda x: int(x.split(\"-\")[2].split(\" \")[1].split(\":\")[1]))\n",
        "\n",
        "encoder = preprocessing.LabelEncoder()\n",
        "encoder = encoder.fit(test.ticket_type_nm)\n",
        "test.ticket_type_nm = encoder.transform(test.ticket_type_nm)\n",
        "\n",
        "test['time'] = test['hour'] + test['minute']\n",
        "\n",
        "#test = test.drop(test[test.line_id == 13].index)\n",
        "\n",
        "test['weekend'] = test['day']\n",
        "test['weekend'] = test['weekend'].replace(17, 1)\n",
        "test['weekend'] = test['weekend'].replace(18, 1)\n",
        "\n",
        "test.loc[(test.weekend > 1), 'weekend'] = 0\n",
        "test['weekend'].value_counts()\n",
        "\n",
        "test = test.drop(['pass_dttm', 'hour', 'minute', 'line_id'], axis = 1)\n",
        "\n",
        "\n",
        "num_feat = test.select_dtypes('int64')\n",
        "for el in num_feat:\n",
        "    for n_type in (np.int32, np.int16, np.int8):\n",
        "        if (test[el] == test[el].astype(n_type)).sum() == len(test):\n",
        "            test[el] = test[el].astype(n_type)"
      ],
      "metadata": {
        "id": "kFHm3-195_Et"
      },
      "execution_count": null,
      "outputs": []
    },
    {
      "cell_type": "code",
      "source": [
        "label = lgbm.predict(test)"
      ],
      "metadata": {
        "id": "bghlkgFFn3Cd"
      },
      "execution_count": null,
      "outputs": []
    },
    {
      "cell_type": "code",
      "source": [
        "time_to_under = lgb.predict(test)"
      ],
      "metadata": {
        "id": "UTmOgMnHe8aJ"
      },
      "execution_count": null,
      "outputs": []
    },
    {
      "cell_type": "code",
      "source": [
        "label.shape"
      ],
      "metadata": {
        "colab": {
          "base_uri": "https://localhost:8080/"
        },
        "id": "BHJqzCLpu6UP",
        "outputId": "0d39b7fc-5013-4d84-dfee-548ea131a652"
      },
      "execution_count": null,
      "outputs": [
        {
          "output_type": "execute_result",
          "data": {
            "text/plain": [
              "(561890,)"
            ]
          },
          "metadata": {},
          "execution_count": 74
        }
      ]
    },
    {
      "cell_type": "code",
      "source": [],
      "metadata": {
        "id": "yQT69TMavCzh"
      },
      "execution_count": null,
      "outputs": []
    },
    {
      "cell_type": "code",
      "source": [
        "answer = []\n",
        "my_answer = pd.DataFrame(data=answer)\n",
        "my_answer['time_to_under'] = pd.DataFrame(data=time_to_under)\n",
        "my_answer['label'] = pd.DataFrame(data=label)"
      ],
      "metadata": {
        "id": "3dA0Asp0v6Is"
      },
      "execution_count": null,
      "outputs": []
    },
    {
      "cell_type": "code",
      "source": [
        "test = pd.read_csv('/content/drive/MyDrive/test_metro.csv')"
      ],
      "metadata": {
        "id": "JohOzMkbfzm_"
      },
      "execution_count": null,
      "outputs": []
    },
    {
      "cell_type": "code",
      "source": [
        "test = test.drop(columns = ['entrance_nm','station_nm', 'line_nm', 'ticket_id'])"
      ],
      "metadata": {
        "id": "IzoYY-gbgBhz"
      },
      "execution_count": null,
      "outputs": []
    },
    {
      "cell_type": "code",
      "source": [
        "my_answer = test.join(my_answer)"
      ],
      "metadata": {
        "id": "NKVG9sSAtJQQ"
      },
      "execution_count": null,
      "outputs": []
    },
    {
      "cell_type": "code",
      "source": [
        "my_answer = my_answer[['id', 'time_to_under', 'label']]"
      ],
      "metadata": {
        "id": "qHQCLuG8oYul"
      },
      "execution_count": null,
      "outputs": []
    },
    {
      "cell_type": "code",
      "source": [
        "my_answer"
      ],
      "metadata": {
        "id": "miBO1DDtwrL7",
        "colab": {
          "base_uri": "https://localhost:8080/",
          "height": 424
        },
        "outputId": "fc4cd86a-46c6-4b36-8b77-47e6cb150dfb"
      },
      "execution_count": null,
      "outputs": [
        {
          "output_type": "execute_result",
          "data": {
            "text/plain": [
              "             id  time_to_under  label\n",
              "0       1091022     521.999788   2022\n",
              "1       1091023     530.648072  81016\n",
              "2       1091024     586.436845   2022\n",
              "3       1091025     509.410154   3017\n",
              "4       1091026     521.999788   2022\n",
              "...         ...            ...    ...\n",
              "561885  1652907      23.676074   1002\n",
              "561886  1652908     164.396540  14016\n",
              "561887  1652909      19.230991  14010\n",
              "561888  1652910      28.429281  11017\n",
              "561889  1652911     -12.316724  14010\n",
              "\n",
              "[561890 rows x 3 columns]"
            ],
            "text/html": [
              "\n",
              "  <div id=\"df-55ec5280-9c91-434a-bcdd-d4b2af0d6d4b\">\n",
              "    <div class=\"colab-df-container\">\n",
              "      <div>\n",
              "<style scoped>\n",
              "    .dataframe tbody tr th:only-of-type {\n",
              "        vertical-align: middle;\n",
              "    }\n",
              "\n",
              "    .dataframe tbody tr th {\n",
              "        vertical-align: top;\n",
              "    }\n",
              "\n",
              "    .dataframe thead th {\n",
              "        text-align: right;\n",
              "    }\n",
              "</style>\n",
              "<table border=\"1\" class=\"dataframe\">\n",
              "  <thead>\n",
              "    <tr style=\"text-align: right;\">\n",
              "      <th></th>\n",
              "      <th>id</th>\n",
              "      <th>time_to_under</th>\n",
              "      <th>label</th>\n",
              "    </tr>\n",
              "  </thead>\n",
              "  <tbody>\n",
              "    <tr>\n",
              "      <th>0</th>\n",
              "      <td>1091022</td>\n",
              "      <td>521.999788</td>\n",
              "      <td>2022</td>\n",
              "    </tr>\n",
              "    <tr>\n",
              "      <th>1</th>\n",
              "      <td>1091023</td>\n",
              "      <td>530.648072</td>\n",
              "      <td>81016</td>\n",
              "    </tr>\n",
              "    <tr>\n",
              "      <th>2</th>\n",
              "      <td>1091024</td>\n",
              "      <td>586.436845</td>\n",
              "      <td>2022</td>\n",
              "    </tr>\n",
              "    <tr>\n",
              "      <th>3</th>\n",
              "      <td>1091025</td>\n",
              "      <td>509.410154</td>\n",
              "      <td>3017</td>\n",
              "    </tr>\n",
              "    <tr>\n",
              "      <th>4</th>\n",
              "      <td>1091026</td>\n",
              "      <td>521.999788</td>\n",
              "      <td>2022</td>\n",
              "    </tr>\n",
              "    <tr>\n",
              "      <th>...</th>\n",
              "      <td>...</td>\n",
              "      <td>...</td>\n",
              "      <td>...</td>\n",
              "    </tr>\n",
              "    <tr>\n",
              "      <th>561885</th>\n",
              "      <td>1652907</td>\n",
              "      <td>23.676074</td>\n",
              "      <td>1002</td>\n",
              "    </tr>\n",
              "    <tr>\n",
              "      <th>561886</th>\n",
              "      <td>1652908</td>\n",
              "      <td>164.396540</td>\n",
              "      <td>14016</td>\n",
              "    </tr>\n",
              "    <tr>\n",
              "      <th>561887</th>\n",
              "      <td>1652909</td>\n",
              "      <td>19.230991</td>\n",
              "      <td>14010</td>\n",
              "    </tr>\n",
              "    <tr>\n",
              "      <th>561888</th>\n",
              "      <td>1652910</td>\n",
              "      <td>28.429281</td>\n",
              "      <td>11017</td>\n",
              "    </tr>\n",
              "    <tr>\n",
              "      <th>561889</th>\n",
              "      <td>1652911</td>\n",
              "      <td>-12.316724</td>\n",
              "      <td>14010</td>\n",
              "    </tr>\n",
              "  </tbody>\n",
              "</table>\n",
              "<p>561890 rows × 3 columns</p>\n",
              "</div>\n",
              "      <button class=\"colab-df-convert\" onclick=\"convertToInteractive('df-55ec5280-9c91-434a-bcdd-d4b2af0d6d4b')\"\n",
              "              title=\"Convert this dataframe to an interactive table.\"\n",
              "              style=\"display:none;\">\n",
              "        \n",
              "  <svg xmlns=\"http://www.w3.org/2000/svg\" height=\"24px\"viewBox=\"0 0 24 24\"\n",
              "       width=\"24px\">\n",
              "    <path d=\"M0 0h24v24H0V0z\" fill=\"none\"/>\n",
              "    <path d=\"M18.56 5.44l.94 2.06.94-2.06 2.06-.94-2.06-.94-.94-2.06-.94 2.06-2.06.94zm-11 1L8.5 8.5l.94-2.06 2.06-.94-2.06-.94L8.5 2.5l-.94 2.06-2.06.94zm10 10l.94 2.06.94-2.06 2.06-.94-2.06-.94-.94-2.06-.94 2.06-2.06.94z\"/><path d=\"M17.41 7.96l-1.37-1.37c-.4-.4-.92-.59-1.43-.59-.52 0-1.04.2-1.43.59L10.3 9.45l-7.72 7.72c-.78.78-.78 2.05 0 2.83L4 21.41c.39.39.9.59 1.41.59.51 0 1.02-.2 1.41-.59l7.78-7.78 2.81-2.81c.8-.78.8-2.07 0-2.86zM5.41 20L4 18.59l7.72-7.72 1.47 1.35L5.41 20z\"/>\n",
              "  </svg>\n",
              "      </button>\n",
              "      \n",
              "  <style>\n",
              "    .colab-df-container {\n",
              "      display:flex;\n",
              "      flex-wrap:wrap;\n",
              "      gap: 12px;\n",
              "    }\n",
              "\n",
              "    .colab-df-convert {\n",
              "      background-color: #E8F0FE;\n",
              "      border: none;\n",
              "      border-radius: 50%;\n",
              "      cursor: pointer;\n",
              "      display: none;\n",
              "      fill: #1967D2;\n",
              "      height: 32px;\n",
              "      padding: 0 0 0 0;\n",
              "      width: 32px;\n",
              "    }\n",
              "\n",
              "    .colab-df-convert:hover {\n",
              "      background-color: #E2EBFA;\n",
              "      box-shadow: 0px 1px 2px rgba(60, 64, 67, 0.3), 0px 1px 3px 1px rgba(60, 64, 67, 0.15);\n",
              "      fill: #174EA6;\n",
              "    }\n",
              "\n",
              "    [theme=dark] .colab-df-convert {\n",
              "      background-color: #3B4455;\n",
              "      fill: #D2E3FC;\n",
              "    }\n",
              "\n",
              "    [theme=dark] .colab-df-convert:hover {\n",
              "      background-color: #434B5C;\n",
              "      box-shadow: 0px 1px 3px 1px rgba(0, 0, 0, 0.15);\n",
              "      filter: drop-shadow(0px 1px 2px rgba(0, 0, 0, 0.3));\n",
              "      fill: #FFFFFF;\n",
              "    }\n",
              "  </style>\n",
              "\n",
              "      <script>\n",
              "        const buttonEl =\n",
              "          document.querySelector('#df-55ec5280-9c91-434a-bcdd-d4b2af0d6d4b button.colab-df-convert');\n",
              "        buttonEl.style.display =\n",
              "          google.colab.kernel.accessAllowed ? 'block' : 'none';\n",
              "\n",
              "        async function convertToInteractive(key) {\n",
              "          const element = document.querySelector('#df-55ec5280-9c91-434a-bcdd-d4b2af0d6d4b');\n",
              "          const dataTable =\n",
              "            await google.colab.kernel.invokeFunction('convertToInteractive',\n",
              "                                                     [key], {});\n",
              "          if (!dataTable) return;\n",
              "\n",
              "          const docLinkHtml = 'Like what you see? Visit the ' +\n",
              "            '<a target=\"_blank\" href=https://colab.research.google.com/notebooks/data_table.ipynb>data table notebook</a>'\n",
              "            + ' to learn more about interactive tables.';\n",
              "          element.innerHTML = '';\n",
              "          dataTable['output_type'] = 'display_data';\n",
              "          await google.colab.output.renderOutput(dataTable, element);\n",
              "          const docLink = document.createElement('div');\n",
              "          docLink.innerHTML = docLinkHtml;\n",
              "          element.appendChild(docLink);\n",
              "        }\n",
              "      </script>\n",
              "    </div>\n",
              "  </div>\n",
              "  "
            ]
          },
          "metadata": {},
          "execution_count": 80
        }
      ]
    },
    {
      "cell_type": "code",
      "source": [
        "my_answer.to_csv('solution_3.csv',index=False)"
      ],
      "metadata": {
        "id": "iEG0nkZAn_Ay"
      },
      "execution_count": null,
      "outputs": []
    }
  ],
  "metadata": {
    "colab": {
      "collapsed_sections": [
        "jFxeVTRd54gI"
      ],
      "provenance": []
    },
    "kernelspec": {
      "display_name": "Python 3",
      "name": "python3"
    },
    "language_info": {
      "name": "python"
    }
  },
  "nbformat": 4,
  "nbformat_minor": 0
}
